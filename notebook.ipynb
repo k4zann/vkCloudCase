{
 "cells": [
  {
   "cell_type": "code",
   "execution_count": null,
   "metadata": {},
   "outputs": [],
   "source": [
    "from telethon import TelegramClient, sync\n",
    "import datetime\n",
    "import csv\n",
    "import time\n",
    "\n",
    "api_id = 22638109\n",
    "api_hash = '32db860854d891b32e532b383e260e40'\n",
    "session_file = 'vkCloud'\n",
    "chat = 'aiber123'\n",
    "\n",
    "# Initialize the client outside of the loop to keep it connected.\n",
    "client = TelegramClient(session_file, api_id, api_hash)\n",
    "client.start()\n",
    "\n",
    "latest_message_id = 0  # Track the latest message ID\n",
    "\n",
    "while True:\n",
    "    try:\n",
    "        with open('telegram_messages.csv', 'a', newline='', encoding='utf-8') as csv_file:\n",
    "            csv_writer = csv.writer(csv_file)\n",
    "\n",
    "            # Fetch messages starting from the latest_message_id\n",
    "            for message in client.iter_messages(chat, min_id=latest_message_id, reverse=True):\n",
    "                data = [chat, message.sender_id, message.text, message.date]\n",
    "                csv_writer.writerow(data)\n",
    "                csv_file.flush()  # Flush the data to the file immediately\n",
    "\n",
    "                # Update latest_message_id\n",
    "                latest_message_id = message.id\n",
    "\n",
    "        time.sleep(5)  # Sleep for 60 seconds (adjust as needed)\n",
    "    except Exception as e:\n",
    "        print(f\"Error: {e}\")\n"
   ]
  },
  {
   "cell_type": "code",
   "execution_count": null,
   "metadata": {},
   "outputs": [],
   "source": [
    "from bs4 import BeautifulSoup\n",
    "import requests\n",
    "from urllib.parse import urljoin\n",
    "\n",
    "url = \"https://mcs.mail.ru/docs/ru/networks/cdn\"\n",
    "response = requests.get(url)\n",
    "\n",
    "soup = BeautifulSoup(response.content, 'html.parser')\n",
    "\n",
    "specific_class = soup.find_all('div', class_='ColumnLayout_leftColumn__N71v6')\n",
    "\n",
    "for element in specific_class:\n",
    "    elements = element.find_all(['h1', 'p', 'a'])\n",
    "    for a in elements:\n",
    "        if a.find_parent('ol'):\n",
    "            continue\n",
    "        if a.name == 'a':\n",
    "            full_url = urljoin(url, a['href'])\n",
    "            print(f\"{a.get_text()}: {full_url}\")\n",
    "        else:\n",
    "            print(a.get_text())"
   ]
  }
 ],
 "metadata": {
  "language_info": {
   "name": "python"
  }
 },
 "nbformat": 4,
 "nbformat_minor": 2
}
