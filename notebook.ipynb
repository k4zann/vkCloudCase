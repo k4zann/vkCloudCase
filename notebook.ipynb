{
 "cells": [
  {
   "cell_type": "code",
   "execution_count": 17,
   "id": "2244cfe2",
   "metadata": {},
   "outputs": [
    {
     "ename": "ModuleNotFoundError",
     "evalue": "No module named 'telethon'",
     "output_type": "error",
     "traceback": [
      "\u001b[1;31m---------------------------------------------------------------------------\u001b[0m",
      "\u001b[1;31mModuleNotFoundError\u001b[0m                       Traceback (most recent call last)",
      "Cell \u001b[1;32mIn[17], line 1\u001b[0m\n\u001b[1;32m----> 1\u001b[0m \u001b[38;5;28;01mfrom\u001b[39;00m \u001b[38;5;21;01mtelethon\u001b[39;00m \u001b[38;5;28;01mimport\u001b[39;00m TelegramClient, sync\n\u001b[0;32m      2\u001b[0m \u001b[38;5;28;01mimport\u001b[39;00m \u001b[38;5;21;01mdatetime\u001b[39;00m\n\u001b[0;32m      3\u001b[0m \u001b[38;5;28;01mimport\u001b[39;00m \u001b[38;5;21;01mcsv\u001b[39;00m\n",
      "\u001b[1;31mModuleNotFoundError\u001b[0m: No module named 'telethon'"
     ]
    }
   ],
   "source": [
    "from telethon import TelegramClient, sync\n",
    "import datetime\n",
    "import csv\n",
    "import time\n",
    "\n",
    "api_id = 22638109\n",
    "api_hash = '32db860854d891b32e532b383e260e40'\n",
    "session_file = 'vkCloud'\n",
    "chat = 'aiber123'\n",
    "\n",
    "# Initialize the client outside of the loop to keep it connected.\n",
    "client = TelegramClient(session_file, api_id, api_hash)\n",
    "client.start()\n",
    "\n",
    "latest_message_id = 0  # Track the latest message ID\n",
    "\n",
    "while True:\n",
    "    try:\n",
    "        with open('telegram_messages.csv', 'a', newline='', encoding='utf-8') as csv_file:\n",
    "            csv_writer = csv.writer(csv_file)\n",
    "\n",
    "            # Fetch messages starting from the latest_message_id\n",
    "            for message in client.iter_messages(chat, min_id=latest_message_id, reverse=True):\n",
    "                data = [chat, message.sender_id, message.text, message.date]\n",
    "                csv_writer.writerow(data)\n",
    "                csv_file.flush()  # Flush the data to the file immediately\n",
    "\n",
    "                # Update latest_message_id\n",
    "                latest_message_id = message.id\n",
    "\n",
    "        time.sleep(5)  # Sleep for 60 seconds (adjust as needed)\n",
    "    except Exception as e:\n",
    "        print(f\"Error: {e}\")"
   ]
  },
  {
   "cell_type": "code",
   "execution_count": null,
   "id": "7cadada1",
   "metadata": {},
   "outputs": [],
   "source": [
    "from bs4 import BeautifulSoup\n",
    "import requests\n",
    "from urllib.parse import urljoin\n",
    "from whoosh.index import create_in\n",
    "from whoosh.fields import Schema, TEXT, ID\n",
    "from whoosh.qparser import QueryParser\n",
    "from whoosh import scoring\n",
    "import os\n",
    "schema = Schema(title=TEXT(stored=True), content=TEXT(stored=True))\n",
    "\n",
    "url = \"https://mcs.mail.ru/docs/ru/networks/cdn\"\n",
    "response = requests.get(url)\n",
    "\n",
    "soup = BeautifulSoup(response.content, 'html.parser')\n",
    "\n",
    "specific_class = soup.find_all('div', class_='ColumnLayout_leftColumn__N71v6')\n",
    "\n",
    "for element in specific_class:\n",
    "    elements = element.find_all(['h1', 'p', 'a'])\n",
    "    for a in elements:\n",
    "        if a.find_parent('ol'):\n",
    "            continue\n",
    "        if a.name == 'a':\n",
    "            full_url = urljoin(url, a['href'])\n",
    "            print(f\"{a.get_text()}: {full_url}\")\n",
    "        else:\n",
    "            print(a.get_text())"
   ]
  },
  {
   "cell_type": "code",
   "execution_count": null,
   "id": "09ef18d7",
   "metadata": {},
   "outputs": [],
   "source": []
  }
 ],
 "metadata": {
  "kernelspec": {
   "display_name": "Python 3 (ipykernel)",
   "language": "python",
   "name": "python3"
  },
  "language_info": {
   "codemirror_mode": {
    "name": "ipython",
    "version": 3
   },
   "file_extension": ".py",
   "mimetype": "text/x-python",
   "name": "python",
   "nbconvert_exporter": "python",
   "pygments_lexer": "ipython3",
   "version": "3.11.5"
  }
 },
 "nbformat": 4,
 "nbformat_minor": 5
}
